{
 "cells": [
  {
   "cell_type": "code",
   "execution_count": 1,
   "id": "a1a6703b-5e4e-4703-856f-dc01713c1c20",
   "metadata": {},
   "outputs": [
    {
     "name": "stdout",
     "output_type": "stream",
     "text": [
      "zoe was here\n"
     ]
    }
   ],
   "source": [
    "print('zoe was here')"
   ]
  },
  {
   "cell_type": "code",
   "execution_count": null,
   "id": "ea96d2ed-2a8c-4b78-91c1-5aba38b5580e",
   "metadata": {},
   "outputs": [],
   "source": []
  }
 ],
 "metadata": {
  "kernelspec": {
   "display_name": "Python 3 (ipykernel)",
   "language": "python",
   "name": "python3"
  },
  "language_info": {
   "codemirror_mode": {
    "name": "ipython",
    "version": 3
   },
   "file_extension": ".py",
   "mimetype": "text/x-python",
   "name": "python",
   "nbconvert_exporter": "python",
   "pygments_lexer": "ipython3",
   "version": "3.11.8"
  }
 },
 "nbformat": 4,
 "nbformat_minor": 5
}
